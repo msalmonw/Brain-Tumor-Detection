{
  "cells": [
    {
      "cell_type": "markdown",
      "metadata": {
        "id": "cieHVVEZgelS"
      },
      "source": [
        "# Brain Tumor Detection through CNN\n",
        "\n",
        "## DA LAB Project\n",
        "## Group Members:\n",
        "\n",
        "*   M. Salman Khan\n",
        "*   M. Maaz Khattak\n",
        "*   Syed Muhammad Shahmeer\n",
        "\n",
        "\n",
        "\n",
        "\n",
        "\n",
        "\n",
        "\n",
        "\n",
        "\n",
        "\n",
        "\n",
        "\n"
      ]
    },
    {
      "cell_type": "markdown",
      "metadata": {
        "id": "F1SUOEtsh_lJ"
      },
      "source": [
        "## Getting Dataset\n",
        "\n",
        "Link: https://www.kaggle.com/navoneel/brain-mri-images-for-brain-tumor-detection"
      ]
    },
    {
      "cell_type": "code",
      "execution_count": 2,
      "metadata": {
        "id": "7_ajxv5kgU9p"
      },
      "outputs": [],
      "source": [
        "! mkdir ~/.kaggle\n",
        "! cp kaggle.json ~/.kaggle/\n",
        "! chmod 600 ~/.kaggle/kaggle.json"
      ]
    },
    {
      "cell_type": "code",
      "execution_count": 3,
      "metadata": {
        "colab": {
          "base_uri": "https://localhost:8080/",
          "height": 0
        },
        "id": "c1MKKHahiHzC",
        "outputId": "ace017ca-b959-4cf2-9a3e-9772087a56c7"
      },
      "outputs": [
        {
          "name": "stdout",
          "output_type": "stream",
          "text": [
            "Downloading brain-mri-images-for-brain-tumor-detection.zip to /content\n",
            " 60% 9.00M/15.1M [00:00<00:00, 60.7MB/s]\n",
            "100% 15.1M/15.1M [00:00<00:00, 72.2MB/s]\n"
          ]
        }
      ],
      "source": [
        "! kaggle datasets download navoneel/brain-mri-images-for-brain-tumor-detection"
      ]
    },
    {
      "cell_type": "code",
      "execution_count": 4,
      "metadata": {
        "colab": {
          "base_uri": "https://localhost:8080/",
          "height": 0
        },
        "id": "XJ9kPTTkiZD5",
        "outputId": "fac98daf-b08b-456d-d187-28841b5bcc87"
      },
      "outputs": [
        {
          "name": "stdout",
          "output_type": "stream",
          "text": [
            "Archive:  /content/brain-mri-images-for-brain-tumor-detection.zip\n",
            "  inflating: brain_tumor_dataset/no/1 no.jpeg  \n",
            "  inflating: brain_tumor_dataset/no/10 no.jpg  \n",
            "  inflating: brain_tumor_dataset/no/11 no.jpg  \n",
            "  inflating: brain_tumor_dataset/no/12 no.jpg  \n",
            "  inflating: brain_tumor_dataset/no/13 no.jpg  \n",
            "  inflating: brain_tumor_dataset/no/14 no.jpg  \n",
            "  inflating: brain_tumor_dataset/no/15 no.jpg  \n",
            "  inflating: brain_tumor_dataset/no/17 no.jpg  \n",
            "  inflating: brain_tumor_dataset/no/18 no.jpg  \n",
            "  inflating: brain_tumor_dataset/no/19 no.jpg  \n",
            "  inflating: brain_tumor_dataset/no/2 no.jpeg  \n",
            "  inflating: brain_tumor_dataset/no/20 no.jpg  \n",
            "  inflating: brain_tumor_dataset/no/21 no.jpg  \n",
            "  inflating: brain_tumor_dataset/no/22 no.jpg  \n",
            "  inflating: brain_tumor_dataset/no/23 no.jpg  \n",
            "  inflating: brain_tumor_dataset/no/24 no.jpg  \n",
            "  inflating: brain_tumor_dataset/no/25 no.jpg  \n",
            "  inflating: brain_tumor_dataset/no/26 no.jpg  \n",
            "  inflating: brain_tumor_dataset/no/27 no.jpg  \n",
            "  inflating: brain_tumor_dataset/no/28 no.jpg  \n",
            "  inflating: brain_tumor_dataset/no/29 no.jpg  \n",
            "  inflating: brain_tumor_dataset/no/3 no.jpg  \n",
            "  inflating: brain_tumor_dataset/no/30 no.jpg  \n",
            "  inflating: brain_tumor_dataset/no/31 no.jpg  \n",
            "  inflating: brain_tumor_dataset/no/32 no.jpg  \n",
            "  inflating: brain_tumor_dataset/no/33 no.jpg  \n",
            "  inflating: brain_tumor_dataset/no/34 no.jpg  \n",
            "  inflating: brain_tumor_dataset/no/35 no.jpg  \n",
            "  inflating: brain_tumor_dataset/no/36 no.jpg  \n",
            "  inflating: brain_tumor_dataset/no/37 no.jpg  \n",
            "  inflating: brain_tumor_dataset/no/38 no.jpg  \n",
            "  inflating: brain_tumor_dataset/no/39 no.jpg  \n",
            "  inflating: brain_tumor_dataset/no/4 no.jpg  \n",
            "  inflating: brain_tumor_dataset/no/40 no.jpg  \n",
            "  inflating: brain_tumor_dataset/no/41 no.jpg  \n",
            "  inflating: brain_tumor_dataset/no/42 no.jpg  \n",
            "  inflating: brain_tumor_dataset/no/43 no.jpg  \n",
            "  inflating: brain_tumor_dataset/no/44no.jpg  \n",
            "  inflating: brain_tumor_dataset/no/45 no.jpg  \n",
            "  inflating: brain_tumor_dataset/no/46 no.jpg  \n",
            "  inflating: brain_tumor_dataset/no/47 no.jpg  \n",
            "  inflating: brain_tumor_dataset/no/48 no.jpeg  \n",
            "  inflating: brain_tumor_dataset/no/49 no.jpg  \n",
            "  inflating: brain_tumor_dataset/no/5 no.jpg  \n",
            "  inflating: brain_tumor_dataset/no/50 no.jpg  \n",
            "  inflating: brain_tumor_dataset/no/6 no.jpg  \n",
            "  inflating: brain_tumor_dataset/no/7 no.jpg  \n",
            "  inflating: brain_tumor_dataset/no/8 no.jpg  \n",
            "  inflating: brain_tumor_dataset/no/9 no.jpg  \n",
            "  inflating: brain_tumor_dataset/no/N1.JPG  \n",
            "  inflating: brain_tumor_dataset/no/N11.jpg  \n",
            "  inflating: brain_tumor_dataset/no/N15.jpg  \n",
            "  inflating: brain_tumor_dataset/no/N16.jpg  \n",
            "  inflating: brain_tumor_dataset/no/N17.jpg  \n",
            "  inflating: brain_tumor_dataset/no/N19.JPG  \n",
            "  inflating: brain_tumor_dataset/no/N2.JPG  \n",
            "  inflating: brain_tumor_dataset/no/N20.JPG  \n",
            "  inflating: brain_tumor_dataset/no/N21.jpg  \n",
            "  inflating: brain_tumor_dataset/no/N22.JPG  \n",
            "  inflating: brain_tumor_dataset/no/N26.JPG  \n",
            "  inflating: brain_tumor_dataset/no/N3.jpg  \n",
            "  inflating: brain_tumor_dataset/no/N5.jpg  \n",
            "  inflating: brain_tumor_dataset/no/N6.jpg  \n",
            "  inflating: brain_tumor_dataset/no/No11.jpg  \n",
            "  inflating: brain_tumor_dataset/no/No12.jpg  \n",
            "  inflating: brain_tumor_dataset/no/No13.jpg  \n",
            "  inflating: brain_tumor_dataset/no/No14.jpg  \n",
            "  inflating: brain_tumor_dataset/no/No15.jpg  \n",
            "  inflating: brain_tumor_dataset/no/No16.jpg  \n",
            "  inflating: brain_tumor_dataset/no/No17.jpg  \n",
            "  inflating: brain_tumor_dataset/no/No18.jpg  \n",
            "  inflating: brain_tumor_dataset/no/No19.jpg  \n",
            "  inflating: brain_tumor_dataset/no/No20.jpg  \n",
            "  inflating: brain_tumor_dataset/no/No21.jpg  \n",
            "  inflating: brain_tumor_dataset/no/No22.jpg  \n",
            "  inflating: brain_tumor_dataset/no/no 1.jpg  \n",
            "  inflating: brain_tumor_dataset/no/no 10.jpg  \n",
            "  inflating: brain_tumor_dataset/no/no 100.jpg  \n",
            "  inflating: brain_tumor_dataset/no/no 2.jpg  \n",
            "  inflating: brain_tumor_dataset/no/no 3.jpg  \n",
            "  inflating: brain_tumor_dataset/no/no 4.jpg  \n",
            "  inflating: brain_tumor_dataset/no/no 5.jpeg  \n",
            "  inflating: brain_tumor_dataset/no/no 6.jpg  \n",
            "  inflating: brain_tumor_dataset/no/no 7.jpeg  \n",
            "  inflating: brain_tumor_dataset/no/no 8.jpg  \n",
            "  inflating: brain_tumor_dataset/no/no 89.jpg  \n",
            "  inflating: brain_tumor_dataset/no/no 9.png  \n",
            "  inflating: brain_tumor_dataset/no/no 90.jpg  \n",
            "  inflating: brain_tumor_dataset/no/no 91.jpeg  \n",
            "  inflating: brain_tumor_dataset/no/no 92.jpg  \n",
            "  inflating: brain_tumor_dataset/no/no 923.jpg  \n",
            "  inflating: brain_tumor_dataset/no/no 94.jpg  \n",
            "  inflating: brain_tumor_dataset/no/no 95.jpg  \n",
            "  inflating: brain_tumor_dataset/no/no 96.jpg  \n",
            "  inflating: brain_tumor_dataset/no/no 97.jpg  \n",
            "  inflating: brain_tumor_dataset/no/no 98.jpg  \n",
            "  inflating: brain_tumor_dataset/no/no 99.jpg  \n",
            "  inflating: brain_tumor_dataset/no/no.jpg  \n",
            "  inflating: brain_tumor_dataset/yes/Y1.jpg  \n",
            "  inflating: brain_tumor_dataset/yes/Y10.jpg  \n",
            "  inflating: brain_tumor_dataset/yes/Y100.JPG  \n",
            "  inflating: brain_tumor_dataset/yes/Y101.jpg  \n",
            "  inflating: brain_tumor_dataset/yes/Y102.jpg  \n",
            "  inflating: brain_tumor_dataset/yes/Y103.jpg  \n",
            "  inflating: brain_tumor_dataset/yes/Y104.jpg  \n",
            "  inflating: brain_tumor_dataset/yes/Y105.jpg  \n",
            "  inflating: brain_tumor_dataset/yes/Y106.jpg  \n",
            "  inflating: brain_tumor_dataset/yes/Y107.jpg  \n",
            "  inflating: brain_tumor_dataset/yes/Y108.jpg  \n",
            "  inflating: brain_tumor_dataset/yes/Y109.JPG  \n",
            "  inflating: brain_tumor_dataset/yes/Y11.jpg  \n",
            "  inflating: brain_tumor_dataset/yes/Y111.JPG  \n",
            "  inflating: brain_tumor_dataset/yes/Y112.JPG  \n",
            "  inflating: brain_tumor_dataset/yes/Y113.JPG  \n",
            "  inflating: brain_tumor_dataset/yes/Y114.JPG  \n",
            "  inflating: brain_tumor_dataset/yes/Y115.JPG  \n",
            "  inflating: brain_tumor_dataset/yes/Y116.JPG  \n",
            "  inflating: brain_tumor_dataset/yes/Y117.JPG  \n",
            "  inflating: brain_tumor_dataset/yes/Y12.jpg  \n",
            "  inflating: brain_tumor_dataset/yes/Y120.JPG  \n",
            "  inflating: brain_tumor_dataset/yes/Y13.jpg  \n",
            "  inflating: brain_tumor_dataset/yes/Y14.jpg  \n",
            "  inflating: brain_tumor_dataset/yes/Y146.JPG  \n",
            "  inflating: brain_tumor_dataset/yes/Y147.JPG  \n",
            "  inflating: brain_tumor_dataset/yes/Y148.JPG  \n",
            "  inflating: brain_tumor_dataset/yes/Y15.jpg  \n",
            "  inflating: brain_tumor_dataset/yes/Y153.jpg  \n",
            "  inflating: brain_tumor_dataset/yes/Y154.jpg  \n",
            "  inflating: brain_tumor_dataset/yes/Y155.JPG  \n",
            "  inflating: brain_tumor_dataset/yes/Y156.JPG  \n",
            "  inflating: brain_tumor_dataset/yes/Y157.JPG  \n",
            "  inflating: brain_tumor_dataset/yes/Y158.JPG  \n",
            "  inflating: brain_tumor_dataset/yes/Y159.JPG  \n",
            "  inflating: brain_tumor_dataset/yes/Y16.JPG  \n",
            "  inflating: brain_tumor_dataset/yes/Y160.JPG  \n",
            "  inflating: brain_tumor_dataset/yes/Y161.JPG  \n",
            "  inflating: brain_tumor_dataset/yes/Y162.jpg  \n",
            "  inflating: brain_tumor_dataset/yes/Y163.JPG  \n",
            "  inflating: brain_tumor_dataset/yes/Y164.JPG  \n",
            "  inflating: brain_tumor_dataset/yes/Y165.JPG  \n",
            "  inflating: brain_tumor_dataset/yes/Y166.JPG  \n",
            "  inflating: brain_tumor_dataset/yes/Y167.JPG  \n",
            "  inflating: brain_tumor_dataset/yes/Y168.jpg  \n",
            "  inflating: brain_tumor_dataset/yes/Y169.jpg  \n",
            "  inflating: brain_tumor_dataset/yes/Y17.jpg  \n",
            "  inflating: brain_tumor_dataset/yes/Y170.JPG  \n",
            "  inflating: brain_tumor_dataset/yes/Y18.JPG  \n",
            "  inflating: brain_tumor_dataset/yes/Y180.jpg  \n",
            "  inflating: brain_tumor_dataset/yes/Y181.jpg  \n",
            "  inflating: brain_tumor_dataset/yes/Y182.JPG  \n",
            "  inflating: brain_tumor_dataset/yes/Y183.jpg  \n",
            "  inflating: brain_tumor_dataset/yes/Y184.JPG  \n",
            "  inflating: brain_tumor_dataset/yes/Y185.jpg  \n",
            "  inflating: brain_tumor_dataset/yes/Y186.jpg  \n",
            "  inflating: brain_tumor_dataset/yes/Y187.jpg  \n",
            "  inflating: brain_tumor_dataset/yes/Y188.jpg  \n",
            "  inflating: brain_tumor_dataset/yes/Y19.JPG  \n",
            "  inflating: brain_tumor_dataset/yes/Y192.JPG  \n",
            "  inflating: brain_tumor_dataset/yes/Y193.JPG  \n",
            "  inflating: brain_tumor_dataset/yes/Y194.jpg  \n",
            "  inflating: brain_tumor_dataset/yes/Y195.JPG  \n",
            "  inflating: brain_tumor_dataset/yes/Y2.jpg  \n",
            "  inflating: brain_tumor_dataset/yes/Y20.jpg  \n",
            "  inflating: brain_tumor_dataset/yes/Y21.jpg  \n",
            "  inflating: brain_tumor_dataset/yes/Y22.jpg  \n",
            "  inflating: brain_tumor_dataset/yes/Y23.JPG  \n",
            "  inflating: brain_tumor_dataset/yes/Y24.jpg  \n",
            "  inflating: brain_tumor_dataset/yes/Y242.JPG  \n",
            "  inflating: brain_tumor_dataset/yes/Y243.JPG  \n",
            "  inflating: brain_tumor_dataset/yes/Y244.JPG  \n",
            "  inflating: brain_tumor_dataset/yes/Y245.jpg  \n",
            "  inflating: brain_tumor_dataset/yes/Y246.JPG  \n",
            "  inflating: brain_tumor_dataset/yes/Y247.JPG  \n",
            "  inflating: brain_tumor_dataset/yes/Y248.JPG  \n",
            "  inflating: brain_tumor_dataset/yes/Y249.JPG  \n",
            "  inflating: brain_tumor_dataset/yes/Y25.jpg  \n",
            "  inflating: brain_tumor_dataset/yes/Y250.jpg  \n",
            "  inflating: brain_tumor_dataset/yes/Y251.JPG  \n",
            "  inflating: brain_tumor_dataset/yes/Y252.jpg  \n",
            "  inflating: brain_tumor_dataset/yes/Y253.JPG  \n",
            "  inflating: brain_tumor_dataset/yes/Y254.jpg  \n",
            "  inflating: brain_tumor_dataset/yes/Y255.JPG  \n",
            "  inflating: brain_tumor_dataset/yes/Y256.JPG  \n",
            "  inflating: brain_tumor_dataset/yes/Y257.jpg  \n",
            "  inflating: brain_tumor_dataset/yes/Y258.JPG  \n",
            "  inflating: brain_tumor_dataset/yes/Y259.JPG  \n",
            "  inflating: brain_tumor_dataset/yes/Y26.jpg  \n",
            "  inflating: brain_tumor_dataset/yes/Y27.jpg  \n",
            "  inflating: brain_tumor_dataset/yes/Y28.jpg  \n",
            "  inflating: brain_tumor_dataset/yes/Y29.jpg  \n",
            "  inflating: brain_tumor_dataset/yes/Y3.jpg  \n",
            "  inflating: brain_tumor_dataset/yes/Y30.jpg  \n",
            "  inflating: brain_tumor_dataset/yes/Y31.jpg  \n",
            "  inflating: brain_tumor_dataset/yes/Y32.jpg  \n",
            "  inflating: brain_tumor_dataset/yes/Y33.jpg  \n",
            "  inflating: brain_tumor_dataset/yes/Y34.jpg  \n",
            "  inflating: brain_tumor_dataset/yes/Y35.jpg  \n",
            "  inflating: brain_tumor_dataset/yes/Y36.JPG  \n",
            "  inflating: brain_tumor_dataset/yes/Y37.jpg  \n",
            "  inflating: brain_tumor_dataset/yes/Y38.jpg  \n",
            "  inflating: brain_tumor_dataset/yes/Y39.jpg  \n",
            "  inflating: brain_tumor_dataset/yes/Y4.jpg  \n",
            "  inflating: brain_tumor_dataset/yes/Y40.JPG  \n",
            "  inflating: brain_tumor_dataset/yes/Y41.jpg  \n",
            "  inflating: brain_tumor_dataset/yes/Y42.jpg  \n",
            "  inflating: brain_tumor_dataset/yes/Y44.JPG  \n",
            "  inflating: brain_tumor_dataset/yes/Y45.JPG  \n",
            "  inflating: brain_tumor_dataset/yes/Y46.jpg  \n",
            "  inflating: brain_tumor_dataset/yes/Y47.JPG  \n",
            "  inflating: brain_tumor_dataset/yes/Y49.JPG  \n",
            "  inflating: brain_tumor_dataset/yes/Y50.JPG  \n",
            "  inflating: brain_tumor_dataset/yes/Y51.jpg  \n",
            "  inflating: brain_tumor_dataset/yes/Y52.jpg  \n",
            "  inflating: brain_tumor_dataset/yes/Y53.jpg  \n",
            "  inflating: brain_tumor_dataset/yes/Y54.jpg  \n",
            "  inflating: brain_tumor_dataset/yes/Y55.jpg  \n",
            "  inflating: brain_tumor_dataset/yes/Y56.jpg  \n",
            "  inflating: brain_tumor_dataset/yes/Y58.JPG  \n",
            "  inflating: brain_tumor_dataset/yes/Y59.JPG  \n",
            "  inflating: brain_tumor_dataset/yes/Y6.jpg  \n",
            "  inflating: brain_tumor_dataset/yes/Y60.jpg  \n",
            "  inflating: brain_tumor_dataset/yes/Y61.jpg  \n",
            "  inflating: brain_tumor_dataset/yes/Y62.jpg  \n",
            "  inflating: brain_tumor_dataset/yes/Y65.JPG  \n",
            "  inflating: brain_tumor_dataset/yes/Y66.JPG  \n",
            "  inflating: brain_tumor_dataset/yes/Y67.JPG  \n",
            "  inflating: brain_tumor_dataset/yes/Y69.jpg  \n",
            "  inflating: brain_tumor_dataset/yes/Y7.jpg  \n",
            "  inflating: brain_tumor_dataset/yes/Y70.jpg  \n",
            "  inflating: brain_tumor_dataset/yes/Y71.JPG  \n",
            "  inflating: brain_tumor_dataset/yes/Y73.jpg  \n",
            "  inflating: brain_tumor_dataset/yes/Y74.jpg  \n",
            "  inflating: brain_tumor_dataset/yes/Y75.JPG  \n",
            "  inflating: brain_tumor_dataset/yes/Y76.jpg  \n",
            "  inflating: brain_tumor_dataset/yes/Y77.jpg  \n",
            "  inflating: brain_tumor_dataset/yes/Y78.jpg  \n",
            "  inflating: brain_tumor_dataset/yes/Y79.jpg  \n",
            "  inflating: brain_tumor_dataset/yes/Y8.jpg  \n",
            "  inflating: brain_tumor_dataset/yes/Y81.jpg  \n",
            "  inflating: brain_tumor_dataset/yes/Y82.jpg  \n",
            "  inflating: brain_tumor_dataset/yes/Y85.JPG  \n",
            "  inflating: brain_tumor_dataset/yes/Y86.JPG  \n",
            "  inflating: brain_tumor_dataset/yes/Y89.JPG  \n",
            "  inflating: brain_tumor_dataset/yes/Y9.jpg  \n",
            "  inflating: brain_tumor_dataset/yes/Y90.jpg  \n",
            "  inflating: brain_tumor_dataset/yes/Y91.jpg  \n",
            "  inflating: brain_tumor_dataset/yes/Y92.jpg  \n",
            "  inflating: brain_tumor_dataset/yes/Y92.png  \n",
            "  inflating: brain_tumor_dataset/yes/Y95.jpg  \n",
            "  inflating: brain_tumor_dataset/yes/Y96.jpg  \n",
            "  inflating: brain_tumor_dataset/yes/Y97.JPG  \n",
            "  inflating: brain_tumor_dataset/yes/Y98.JPG  \n",
            "  inflating: brain_tumor_dataset/yes/Y99.JPG  \n",
            "  inflating: no/1 no.jpeg            \n",
            "  inflating: no/10 no.jpg            \n",
            "  inflating: no/11 no.jpg            \n",
            "  inflating: no/12 no.jpg            \n",
            "  inflating: no/13 no.jpg            \n",
            "  inflating: no/14 no.jpg            \n",
            "  inflating: no/15 no.jpg            \n",
            "  inflating: no/17 no.jpg            \n",
            "  inflating: no/18 no.jpg            \n",
            "  inflating: no/19 no.jpg            \n",
            "  inflating: no/2 no.jpeg            \n",
            "  inflating: no/20 no.jpg            \n",
            "  inflating: no/21 no.jpg            \n",
            "  inflating: no/22 no.jpg            \n",
            "  inflating: no/23 no.jpg            \n",
            "  inflating: no/24 no.jpg            \n",
            "  inflating: no/25 no.jpg            \n",
            "  inflating: no/26 no.jpg            \n",
            "  inflating: no/27 no.jpg            \n",
            "  inflating: no/28 no.jpg            \n",
            "  inflating: no/29 no.jpg            \n",
            "  inflating: no/3 no.jpg             \n",
            "  inflating: no/30 no.jpg            \n",
            "  inflating: no/31 no.jpg            \n",
            "  inflating: no/32 no.jpg            \n",
            "  inflating: no/33 no.jpg            \n",
            "  inflating: no/34 no.jpg            \n",
            "  inflating: no/35 no.jpg            \n",
            "  inflating: no/36 no.jpg            \n",
            "  inflating: no/37 no.jpg            \n",
            "  inflating: no/38 no.jpg            \n",
            "  inflating: no/39 no.jpg            \n",
            "  inflating: no/4 no.jpg             \n",
            "  inflating: no/40 no.jpg            \n",
            "  inflating: no/41 no.jpg            \n",
            "  inflating: no/42 no.jpg            \n",
            "  inflating: no/43 no.jpg            \n",
            "  inflating: no/44no.jpg             \n",
            "  inflating: no/45 no.jpg            \n",
            "  inflating: no/46 no.jpg            \n",
            "  inflating: no/47 no.jpg            \n",
            "  inflating: no/48 no.jpeg           \n",
            "  inflating: no/49 no.jpg            \n",
            "  inflating: no/5 no.jpg             \n",
            "  inflating: no/50 no.jpg            \n",
            "  inflating: no/6 no.jpg             \n",
            "  inflating: no/7 no.jpg             \n",
            "  inflating: no/8 no.jpg             \n",
            "  inflating: no/9 no.jpg             \n",
            "  inflating: no/N1.JPG               \n",
            "  inflating: no/N11.jpg              \n",
            "  inflating: no/N15.jpg              \n",
            "  inflating: no/N16.jpg              \n",
            "  inflating: no/N17.jpg              \n",
            "  inflating: no/N19.JPG              \n",
            "  inflating: no/N2.JPG               \n",
            "  inflating: no/N20.JPG              \n",
            "  inflating: no/N21.jpg              \n",
            "  inflating: no/N22.JPG              \n",
            "  inflating: no/N26.JPG              \n",
            "  inflating: no/N3.jpg               \n",
            "  inflating: no/N5.jpg               \n",
            "  inflating: no/N6.jpg               \n",
            "  inflating: no/No11.jpg             \n",
            "  inflating: no/No12.jpg             \n",
            "  inflating: no/No13.jpg             \n",
            "  inflating: no/No14.jpg             \n",
            "  inflating: no/No15.jpg             \n",
            "  inflating: no/No16.jpg             \n",
            "  inflating: no/No17.jpg             \n",
            "  inflating: no/No18.jpg             \n",
            "  inflating: no/No19.jpg             \n",
            "  inflating: no/No20.jpg             \n",
            "  inflating: no/No21.jpg             \n",
            "  inflating: no/No22.jpg             \n",
            "  inflating: no/no 1.jpg             \n",
            "  inflating: no/no 10.jpg            \n",
            "  inflating: no/no 100.jpg           \n",
            "  inflating: no/no 2.jpg             \n",
            "  inflating: no/no 3.jpg             \n",
            "  inflating: no/no 4.jpg             \n",
            "  inflating: no/no 5.jpeg            \n",
            "  inflating: no/no 6.jpg             \n",
            "  inflating: no/no 7.jpeg            \n",
            "  inflating: no/no 8.jpg             \n",
            "  inflating: no/no 89.jpg            \n",
            "  inflating: no/no 9.png             \n",
            "  inflating: no/no 90.jpg            \n",
            "  inflating: no/no 91.jpeg           \n",
            "  inflating: no/no 92.jpg            \n",
            "  inflating: no/no 923.jpg           \n",
            "  inflating: no/no 94.jpg            \n",
            "  inflating: no/no 95.jpg            \n",
            "  inflating: no/no 96.jpg            \n",
            "  inflating: no/no 97.jpg            \n",
            "  inflating: no/no 98.jpg            \n",
            "  inflating: no/no 99.jpg            \n",
            "  inflating: no/no.jpg               \n",
            "  inflating: yes/Y1.jpg              \n",
            "  inflating: yes/Y10.jpg             \n",
            "  inflating: yes/Y100.JPG            \n",
            "  inflating: yes/Y101.jpg            \n",
            "  inflating: yes/Y102.jpg            \n",
            "  inflating: yes/Y103.jpg            \n",
            "  inflating: yes/Y104.jpg            \n",
            "  inflating: yes/Y105.jpg            \n",
            "  inflating: yes/Y106.jpg            \n",
            "  inflating: yes/Y107.jpg            \n",
            "  inflating: yes/Y108.jpg            \n",
            "  inflating: yes/Y109.JPG            \n",
            "  inflating: yes/Y11.jpg             \n",
            "  inflating: yes/Y111.JPG            \n",
            "  inflating: yes/Y112.JPG            \n",
            "  inflating: yes/Y113.JPG            \n",
            "  inflating: yes/Y114.JPG            \n",
            "  inflating: yes/Y115.JPG            \n",
            "  inflating: yes/Y116.JPG            \n",
            "  inflating: yes/Y117.JPG            \n",
            "  inflating: yes/Y12.jpg             \n",
            "  inflating: yes/Y120.JPG            \n",
            "  inflating: yes/Y13.jpg             \n",
            "  inflating: yes/Y14.jpg             \n",
            "  inflating: yes/Y146.JPG            \n",
            "  inflating: yes/Y147.JPG            \n",
            "  inflating: yes/Y148.JPG            \n",
            "  inflating: yes/Y15.jpg             \n",
            "  inflating: yes/Y153.jpg            \n",
            "  inflating: yes/Y154.jpg            \n",
            "  inflating: yes/Y155.JPG            \n",
            "  inflating: yes/Y156.JPG            \n",
            "  inflating: yes/Y157.JPG            \n",
            "  inflating: yes/Y158.JPG            \n",
            "  inflating: yes/Y159.JPG            \n",
            "  inflating: yes/Y16.JPG             \n",
            "  inflating: yes/Y160.JPG            \n",
            "  inflating: yes/Y161.JPG            \n",
            "  inflating: yes/Y162.jpg            \n",
            "  inflating: yes/Y163.JPG            \n",
            "  inflating: yes/Y164.JPG            \n",
            "  inflating: yes/Y165.JPG            \n",
            "  inflating: yes/Y166.JPG            \n",
            "  inflating: yes/Y167.JPG            \n",
            "  inflating: yes/Y168.jpg            \n",
            "  inflating: yes/Y169.jpg            \n",
            "  inflating: yes/Y17.jpg             \n",
            "  inflating: yes/Y170.JPG            \n",
            "  inflating: yes/Y18.JPG             \n",
            "  inflating: yes/Y180.jpg            \n",
            "  inflating: yes/Y181.jpg            \n",
            "  inflating: yes/Y182.JPG            \n",
            "  inflating: yes/Y183.jpg            \n",
            "  inflating: yes/Y184.JPG            \n",
            "  inflating: yes/Y185.jpg            \n",
            "  inflating: yes/Y186.jpg            \n",
            "  inflating: yes/Y187.jpg            \n",
            "  inflating: yes/Y188.jpg            \n",
            "  inflating: yes/Y19.JPG             \n",
            "  inflating: yes/Y192.JPG            \n",
            "  inflating: yes/Y193.JPG            \n",
            "  inflating: yes/Y194.jpg            \n",
            "  inflating: yes/Y195.JPG            \n",
            "  inflating: yes/Y2.jpg              \n",
            "  inflating: yes/Y20.jpg             \n",
            "  inflating: yes/Y21.jpg             \n",
            "  inflating: yes/Y22.jpg             \n",
            "  inflating: yes/Y23.JPG             \n",
            "  inflating: yes/Y24.jpg             \n",
            "  inflating: yes/Y242.JPG            \n",
            "  inflating: yes/Y243.JPG            \n",
            "  inflating: yes/Y244.JPG            \n",
            "  inflating: yes/Y245.jpg            \n",
            "  inflating: yes/Y246.JPG            \n",
            "  inflating: yes/Y247.JPG            \n",
            "  inflating: yes/Y248.JPG            \n",
            "  inflating: yes/Y249.JPG            \n",
            "  inflating: yes/Y25.jpg             \n",
            "  inflating: yes/Y250.jpg            \n",
            "  inflating: yes/Y251.JPG            \n",
            "  inflating: yes/Y252.jpg            \n",
            "  inflating: yes/Y253.JPG            \n",
            "  inflating: yes/Y254.jpg            \n",
            "  inflating: yes/Y255.JPG            \n",
            "  inflating: yes/Y256.JPG            \n",
            "  inflating: yes/Y257.jpg            \n",
            "  inflating: yes/Y258.JPG            \n",
            "  inflating: yes/Y259.JPG            \n",
            "  inflating: yes/Y26.jpg             \n",
            "  inflating: yes/Y27.jpg             \n",
            "  inflating: yes/Y28.jpg             \n",
            "  inflating: yes/Y29.jpg             \n",
            "  inflating: yes/Y3.jpg              \n",
            "  inflating: yes/Y30.jpg             \n",
            "  inflating: yes/Y31.jpg             \n",
            "  inflating: yes/Y32.jpg             \n",
            "  inflating: yes/Y33.jpg             \n",
            "  inflating: yes/Y34.jpg             \n",
            "  inflating: yes/Y35.jpg             \n",
            "  inflating: yes/Y36.JPG             \n",
            "  inflating: yes/Y37.jpg             \n",
            "  inflating: yes/Y38.jpg             \n",
            "  inflating: yes/Y39.jpg             \n",
            "  inflating: yes/Y4.jpg              \n",
            "  inflating: yes/Y40.JPG             \n",
            "  inflating: yes/Y41.jpg             \n",
            "  inflating: yes/Y42.jpg             \n",
            "  inflating: yes/Y44.JPG             \n",
            "  inflating: yes/Y45.JPG             \n",
            "  inflating: yes/Y46.jpg             \n",
            "  inflating: yes/Y47.JPG             \n",
            "  inflating: yes/Y49.JPG             \n",
            "  inflating: yes/Y50.JPG             \n",
            "  inflating: yes/Y51.jpg             \n",
            "  inflating: yes/Y52.jpg             \n",
            "  inflating: yes/Y53.jpg             \n",
            "  inflating: yes/Y54.jpg             \n",
            "  inflating: yes/Y55.jpg             \n",
            "  inflating: yes/Y56.jpg             \n",
            "  inflating: yes/Y58.JPG             \n",
            "  inflating: yes/Y59.JPG             \n",
            "  inflating: yes/Y6.jpg              \n",
            "  inflating: yes/Y60.jpg             \n",
            "  inflating: yes/Y61.jpg             \n",
            "  inflating: yes/Y62.jpg             \n",
            "  inflating: yes/Y65.JPG             \n",
            "  inflating: yes/Y66.JPG             \n",
            "  inflating: yes/Y67.JPG             \n",
            "  inflating: yes/Y69.jpg             \n",
            "  inflating: yes/Y7.jpg              \n",
            "  inflating: yes/Y70.jpg             \n",
            "  inflating: yes/Y71.JPG             \n",
            "  inflating: yes/Y73.jpg             \n",
            "  inflating: yes/Y74.jpg             \n",
            "  inflating: yes/Y75.JPG             \n",
            "  inflating: yes/Y76.jpg             \n",
            "  inflating: yes/Y77.jpg             \n",
            "  inflating: yes/Y78.jpg             \n",
            "  inflating: yes/Y79.jpg             \n",
            "  inflating: yes/Y8.jpg              \n",
            "  inflating: yes/Y81.jpg             \n",
            "  inflating: yes/Y82.jpg             \n",
            "  inflating: yes/Y85.JPG             \n",
            "  inflating: yes/Y86.JPG             \n",
            "  inflating: yes/Y89.JPG             \n",
            "  inflating: yes/Y9.jpg              \n",
            "  inflating: yes/Y90.jpg             \n",
            "  inflating: yes/Y91.jpg             \n",
            "  inflating: yes/Y92.jpg             \n",
            "  inflating: yes/Y92.png             \n",
            "  inflating: yes/Y95.jpg             \n",
            "  inflating: yes/Y96.jpg             \n",
            "  inflating: yes/Y97.JPG             \n",
            "  inflating: yes/Y98.JPG             \n",
            "  inflating: yes/Y99.JPG             \n"
          ]
        }
      ],
      "source": [
        "! unzip /content/brain-mri-images-for-brain-tumor-detection.zip"
      ]
    },
    {
      "cell_type": "markdown",
      "metadata": {
        "id": "QEo6RSgDieW7"
      },
      "source": [
        "## Importing Libraries and Dependencies"
      ]
    },
    {
      "cell_type": "code",
      "execution_count": 5,
      "metadata": {
        "id": "7XaUogxWiswl"
      },
      "outputs": [],
      "source": [
        "import os\n",
        "import tensorflow as tf\n",
        "from tensorflow.keras.preprocessing.image import ImageDataGenerator,array_to_img\n",
        "import matplotlib.pyplot as plt\n",
        "import numpy as np\n",
        "import seaborn as sns\n",
        "import sklearn\n",
        "from sklearn.metrics import confusion_matrix"
      ]
    },
    {
      "cell_type": "markdown",
      "metadata": {
        "id": "gK2cZDHfjdBZ"
      },
      "source": [
        "### EDA"
      ]
    },
    {
      "cell_type": "code",
      "execution_count": 8,
      "metadata": {
        "colab": {
          "base_uri": "https://localhost:8080/",
          "height": 0
        },
        "id": "4boMeEXMi_s8",
        "outputId": "9b70f9f2-0d54-4b5f-942a-1476fe4e2a81"
      },
      "outputs": [
        {
          "data": {
            "text/plain": [
              "2"
            ]
          },
          "execution_count": 8,
          "metadata": {},
          "output_type": "execute_result"
        }
      ],
      "source": [
        "len(os.listdir(\"/content/brain_tumor_dataset/\"))\n",
        "# 2 Classes"
      ]
    },
    {
      "cell_type": "code",
      "execution_count": 10,
      "metadata": {
        "id": "qFqQ0Uo7jrm7"
      },
      "outputs": [],
      "source": [
        "train_dir = \"/content/brain_tumor_dataset\""
      ]
    },
    {
      "cell_type": "markdown",
      "metadata": {
        "id": "YhmmHpspkVGQ"
      },
      "source": [
        "## Performing Image Augmentation for better generalization plus test-valid split"
      ]
    },
    {
      "cell_type": "code",
      "execution_count": 11,
      "metadata": {
        "colab": {
          "base_uri": "https://localhost:8080/",
          "height": 0
        },
        "id": "Gji-I_vYkCJt",
        "outputId": "e8ea388a-87b3-4d4e-a9d4-5706400d5cea"
      },
      "outputs": [
        {
          "name": "stdout",
          "output_type": "stream",
          "text": [
            "Found 203 images belonging to 2 classes.\n",
            "Found 50 images belonging to 2 classes.\n"
          ]
        }
      ],
      "source": [
        "train_datagen = ImageDataGenerator(rescale=1./255,\n",
        "                                     rotation_range=10,\n",
        "                                     width_shift_range=0.05,\n",
        "                                     height_shift_range=0.05,\n",
        "                                     zoom_range=0.05,\n",
        "                                     horizontal_flip=True, \n",
        "                                     vertical_flip=True,\n",
        "                                     brightness_range = [0.5, 1.4],\n",
        "                                     validation_split=0.2)\n",
        "\n",
        "train_set = train_datagen.flow_from_directory(directory=train_dir,\n",
        "                                                    batch_size=10,\n",
        "                                                    target_size=(224, 224),\n",
        "                                                    shuffle = True,\n",
        "                                                    class_mode = \"binary\",\n",
        "                                                    subset = \"training\")\n",
        "\n",
        "valid_set = train_datagen.flow_from_directory(directory=train_dir,\n",
        "                                                            batch_size=10,\n",
        "                                                            target_size=(224, 224),\n",
        "                                                            shuffle = False,\n",
        "                                                            class_mode = \"binary\",\n",
        "                                                            subset = \"validation\")"
      ]
    },
    {
      "cell_type": "markdown",
      "metadata": {
        "id": "KTRNtFvZk321"
      },
      "source": [
        "## Plotting Augmented Images"
      ]
    },
    {
      "cell_type": "code",
      "execution_count": 23,
      "metadata": {
        "id": "pJ-bb06llGNo"
      },
      "outputs": [],
      "source": [
        "x, label = train_set.next()\n",
        "def plot_images(x, label):\n",
        "  for im, l in zip(x, label):\n",
        "    plt.figure(figsize=(3, 3))\n",
        "    plt.xlabel(l)\n",
        "    plt.imshow(im)\n",
        "    plt.show()"
      ]
    },
    {
      "cell_type": "code",
      "execution_count": 25,
      "metadata": {
        "colab": {
          "base_uri": "https://localhost:8080/",
          "height": 653
        },
        "id": "6wB8zvcJoPYt",
        "outputId": "8d3687dd-df31-4474-87d7-39d9199e761a"
      },
      "outputs": [
        {
          "data": {
            "image/png": "[encoded data removed]",
            "text/plain": [
              "<Figure size 216x216 with 1 Axes>"
            ]
          },
          "metadata": {
            "needs_background": "light"
          },
          "output_type": "display_data"
        },
        {
          "data": {
            "image/png": "[encoded data removed]",
            "text/plain": [
              "<Figure size 216x216 with 1 Axes>"
            ]
          },
          "metadata": {
            "needs_background": "light"
          },
          "output_type": "display_data"
        },
        {
          "data": {
            "image/png": "[encoded data removed]",
            "text/plain": [
              "<Figure size 216x216 with 1 Axes>"
            ]
          },
          "metadata": {
            "needs_background": "light"
          },
          "output_type": "display_data"
        }
      ],
      "source": [
        "plot_images(x[:3], label[:3])\n",
        "# 1.0 label for 'yes' and 0.0 for 'no'"
      ]
    },
    {
      "cell_type": "markdown",
      "metadata": {
        "id": "H6PtfbKdqHEq"
      },
      "source": [
        "## Creating Simple CNN Model"
      ]
    },
    {
      "cell_type": "code",
      "execution_count": 26,
      "metadata": {
        "id": "CG2e_yVpqtyV"
      },
      "outputs": [],
      "source": [
        "model = tf.keras.models.Sequential([ \n",
        "      tf.keras.layers.Conv2D(filters = 64 , kernel_size = (3,3), activation=\"relu\", input_shape=(224,224,3)),\n",
        "      tf.keras.layers.MaxPooling2D(pool_size = (3,3)),\n",
        "      tf.keras.layers.Conv2D(filters = 32 , kernel_size = (3,3), activation=\"relu\"),\n",
        "      tf.keras.layers.MaxPooling2D(pool_size = (3,3)),\n",
        "      tf.keras.layers.Conv2D(filters = 32 , kernel_size = (3,3), activation=\"relu\"),\n",
        "      tf.keras.layers.MaxPooling2D(pool_size = (3,3)),\n",
        "      tf.keras.layers.Flatten(),\n",
        "      tf.keras.layers.Dense(units = 512 , activation=\"relu\"),\n",
        "      tf.keras.layers.Dropout(rate = 0.5),\n",
        "      tf.keras.layers.Dense(units = 1 , activation=\"sigmoid\")\n",
        "  ])"
      ]
    },
    {
      "cell_type": "code",
      "execution_count": 30,
      "metadata": {
        "colab": {
          "base_uri": "https://localhost:8080/",
          "height": 0
        },
        "id": "tZDifJi5rNrM",
        "outputId": "44dab311-b13d-48bf-f134-c27bc089e166"
      },
      "outputs": [
        {
          "name": "stdout",
          "output_type": "stream",
          "text": [
            "Model: \"sequential\"\n",
            "_________________________________________________________________\n",
            " Layer (type)                Output Shape              Param #   \n",
            "=================================================================\n",
            " conv2d (Conv2D)             (None, 222, 222, 64)      1792      \n",
            "                                                                 \n",
            " max_pooling2d (MaxPooling2D  (None, 74, 74, 64)       0         \n",
            " )                                                               \n",
            "                                                                 \n",
            " conv2d_1 (Conv2D)           (None, 72, 72, 32)        18464     \n",
            "                                                                 \n",
            " max_pooling2d_1 (MaxPooling  (None, 24, 24, 32)       0         \n",
            " 2D)                                                             \n",
            "                                                                 \n",
            " conv2d_2 (Conv2D)           (None, 22, 22, 32)        9248      \n",
            "                                                                 \n",
            " max_pooling2d_2 (MaxPooling  (None, 7, 7, 32)         0         \n",
            " 2D)                                                             \n",
            "                                                                 \n",
            " flatten (Flatten)           (None, 1568)              0         \n",
            "                                                                 \n",
            " dense (Dense)               (None, 512)               803328    \n",
            "                                                                 \n",
            " dropout (Dropout)           (None, 512)               0         \n",
            "                                                                 \n",
            " dense_1 (Dense)             (None, 1)                 513       \n",
            "                                                                 \n",
            "=================================================================\n",
            "Total params: 833,345\n",
            "Trainable params: 833,345\n",
            "Non-trainable params: 0\n",
            "_________________________________________________________________\n"
          ]
        }
      ],
      "source": [
        "metrics = [\n",
        "    tf.keras.metrics.TruePositives(name='tp'),tf.keras.metrics.FalsePositives(name='fp'), # predict postive(1) for negative(0)\n",
        "    tf.keras.metrics.TrueNegatives(name='tn'),tf.keras.metrics.FalseNegatives(name='fn'), # predict negative(0) for postive(1)\n",
        "    tf.keras.metrics.BinaryAccuracy(name='accuracy'),tf.keras.metrics.Precision(name='precision'),\n",
        "]\n",
        "\n",
        "model.compile(optimizer = tf.optimizers.Adam(learning_rate = 0.0001),\n",
        "                loss = \"binary_crossentropy\",\n",
        "                metrics=metrics)\n",
        "\n",
        "model.summary()"
      ]
    },
    {
      "cell_type": "markdown",
      "metadata": {
        "id": "uM3ZVEL1tzRG"
      },
      "source": [
        "## Training"
      ]
    },
    {
      "cell_type": "code",
      "execution_count": 31,
      "metadata": {
        "colab": {
          "base_uri": "https://localhost:8080/",
          "height": 0
        },
        "id": "GD92YRpvsCAB",
        "outputId": "43a0de0d-1043-445f-8aa5-2f9bf45bf458"
      },
      "outputs": [
        {
          "name": "stdout",
          "output_type": "stream",
          "text": [
            "Epoch 1/20\n",
            "21/21 [==============================] - 18s 729ms/step - loss: 0.6606 - tp: 122.0000 - fp: 77.0000 - tn: 2.0000 - fn: 2.0000 - accuracy: 0.6108 - precision: 0.6131 - val_loss: 0.6262 - val_tp: 31.0000 - val_fp: 18.0000 - val_tn: 1.0000 - val_fn: 0.0000e+00 - val_accuracy: 0.6400 - val_precision: 0.6327\n",
            "Epoch 2/20\n",
            "21/21 [==============================] - 15s 689ms/step - loss: 0.6291 - tp: 123.0000 - fp: 56.0000 - tn: 23.0000 - fn: 1.0000 - accuracy: 0.7192 - precision: 0.6872 - val_loss: 0.5724 - val_tp: 30.0000 - val_fp: 15.0000 - val_tn: 4.0000 - val_fn: 1.0000 - val_accuracy: 0.6800 - val_precision: 0.6667\n",
            "Epoch 3/20\n",
            "21/21 [==============================] - 15s 688ms/step - loss: 0.5852 - tp: 115.0000 - fp: 47.0000 - tn: 32.0000 - fn: 9.0000 - accuracy: 0.7241 - precision: 0.7099 - val_loss: 0.5176 - val_tp: 29.0000 - val_fp: 10.0000 - val_tn: 9.0000 - val_fn: 2.0000 - val_accuracy: 0.7600 - val_precision: 0.7436\n",
            "Epoch 4/20\n",
            "21/21 [==============================] - 15s 690ms/step - loss: 0.5594 - tp: 105.0000 - fp: 39.0000 - tn: 40.0000 - fn: 19.0000 - accuracy: 0.7143 - precision: 0.7292 - val_loss: 0.5575 - val_tp: 20.0000 - val_fp: 7.0000 - val_tn: 12.0000 - val_fn: 11.0000 - val_accuracy: 0.6400 - val_precision: 0.7407\n",
            "Epoch 5/20\n",
            "21/21 [==============================] - 15s 696ms/step - loss: 0.5536 - tp: 109.0000 - fp: 36.0000 - tn: 43.0000 - fn: 15.0000 - accuracy: 0.7488 - precision: 0.7517 - val_loss: 0.5649 - val_tp: 27.0000 - val_fp: 9.0000 - val_tn: 10.0000 - val_fn: 4.0000 - val_accuracy: 0.7400 - val_precision: 0.7500\n",
            "Epoch 6/20\n",
            "21/21 [==============================] - 15s 696ms/step - loss: 0.5164 - tp: 104.0000 - fp: 29.0000 - tn: 50.0000 - fn: 20.0000 - accuracy: 0.7586 - precision: 0.7820 - val_loss: 0.5090 - val_tp: 26.0000 - val_fp: 7.0000 - val_tn: 12.0000 - val_fn: 5.0000 - val_accuracy: 0.7600 - val_precision: 0.7879\n",
            "Epoch 7/20\n",
            "21/21 [==============================] - 15s 696ms/step - loss: 0.4980 - tp: 113.0000 - fp: 31.0000 - tn: 48.0000 - fn: 11.0000 - accuracy: 0.7931 - precision: 0.7847 - val_loss: 0.5200 - val_tp: 28.0000 - val_fp: 9.0000 - val_tn: 10.0000 - val_fn: 3.0000 - val_accuracy: 0.7600 - val_precision: 0.7568\n",
            "Epoch 8/20\n",
            "21/21 [==============================] - 15s 694ms/step - loss: 0.4948 - tp: 108.0000 - fp: 33.0000 - tn: 46.0000 - fn: 16.0000 - accuracy: 0.7586 - precision: 0.7660 - val_loss: 0.6220 - val_tp: 23.0000 - val_fp: 9.0000 - val_tn: 10.0000 - val_fn: 8.0000 - val_accuracy: 0.6600 - val_precision: 0.7188\n",
            "Epoch 9/20\n",
            "21/21 [==============================] - 15s 695ms/step - loss: 0.4822 - tp: 108.0000 - fp: 26.0000 - tn: 53.0000 - fn: 16.0000 - accuracy: 0.7931 - precision: 0.8060 - val_loss: 0.5681 - val_tp: 27.0000 - val_fp: 9.0000 - val_tn: 10.0000 - val_fn: 4.0000 - val_accuracy: 0.7400 - val_precision: 0.7500\n",
            "Epoch 10/20\n",
            "21/21 [==============================] - 15s 698ms/step - loss: 0.4977 - tp: 100.0000 - fp: 27.0000 - tn: 52.0000 - fn: 24.0000 - accuracy: 0.7488 - precision: 0.7874 - val_loss: 0.5569 - val_tp: 28.0000 - val_fp: 10.0000 - val_tn: 9.0000 - val_fn: 3.0000 - val_accuracy: 0.7400 - val_precision: 0.7368\n",
            "Epoch 11/20\n",
            "21/21 [==============================] - 15s 696ms/step - loss: 0.5065 - tp: 111.0000 - fp: 25.0000 - tn: 54.0000 - fn: 13.0000 - accuracy: 0.8128 - precision: 0.8162 - val_loss: 0.5256 - val_tp: 27.0000 - val_fp: 9.0000 - val_tn: 10.0000 - val_fn: 4.0000 - val_accuracy: 0.7400 - val_precision: 0.7500\n",
            "Epoch 12/20\n",
            "21/21 [==============================] - 15s 720ms/step - loss: 0.5125 - tp: 111.0000 - fp: 27.0000 - tn: 52.0000 - fn: 13.0000 - accuracy: 0.8030 - precision: 0.8043 - val_loss: 0.4954 - val_tp: 28.0000 - val_fp: 9.0000 - val_tn: 10.0000 - val_fn: 3.0000 - val_accuracy: 0.7600 - val_precision: 0.7568\n",
            "Epoch 13/20\n",
            "21/21 [==============================] - 15s 690ms/step - loss: 0.4931 - tp: 108.0000 - fp: 24.0000 - tn: 55.0000 - fn: 16.0000 - accuracy: 0.8030 - precision: 0.8182 - val_loss: 0.5591 - val_tp: 28.0000 - val_fp: 9.0000 - val_tn: 10.0000 - val_fn: 3.0000 - val_accuracy: 0.7600 - val_precision: 0.7568\n",
            "Epoch 14/20\n",
            "21/21 [==============================] - 15s 692ms/step - loss: 0.4668 - tp: 114.0000 - fp: 32.0000 - tn: 47.0000 - fn: 10.0000 - accuracy: 0.7931 - precision: 0.7808 - val_loss: 0.5332 - val_tp: 27.0000 - val_fp: 9.0000 - val_tn: 10.0000 - val_fn: 4.0000 - val_accuracy: 0.7400 - val_precision: 0.7500\n",
            "Epoch 15/20\n",
            "21/21 [==============================] - 15s 699ms/step - loss: 0.4973 - tp: 105.0000 - fp: 27.0000 - tn: 52.0000 - fn: 19.0000 - accuracy: 0.7734 - precision: 0.7955 - val_loss: 0.5854 - val_tp: 29.0000 - val_fp: 9.0000 - val_tn: 10.0000 - val_fn: 2.0000 - val_accuracy: 0.7800 - val_precision: 0.7632\n",
            "Epoch 16/20\n",
            "21/21 [==============================] - 15s 687ms/step - loss: 0.4878 - tp: 110.0000 - fp: 27.0000 - tn: 52.0000 - fn: 14.0000 - accuracy: 0.7980 - precision: 0.8029 - val_loss: 0.5427 - val_tp: 28.0000 - val_fp: 9.0000 - val_tn: 10.0000 - val_fn: 3.0000 - val_accuracy: 0.7600 - val_precision: 0.7568\n",
            "Epoch 17/20\n",
            "21/21 [==============================] - 15s 691ms/step - loss: 0.4647 - tp: 110.0000 - fp: 24.0000 - tn: 55.0000 - fn: 14.0000 - accuracy: 0.8128 - precision: 0.8209 - val_loss: 0.5729 - val_tp: 26.0000 - val_fp: 8.0000 - val_tn: 11.0000 - val_fn: 5.0000 - val_accuracy: 0.7400 - val_precision: 0.7647\n",
            "Epoch 18/20\n",
            "21/21 [==============================] - 15s 697ms/step - loss: 0.4543 - tp: 109.0000 - fp: 23.0000 - tn: 56.0000 - fn: 15.0000 - accuracy: 0.8128 - precision: 0.8258 - val_loss: 0.5554 - val_tp: 28.0000 - val_fp: 9.0000 - val_tn: 10.0000 - val_fn: 3.0000 - val_accuracy: 0.7600 - val_precision: 0.7568\n",
            "Epoch 19/20\n",
            "21/21 [==============================] - 15s 701ms/step - loss: 0.4736 - tp: 106.0000 - fp: 24.0000 - tn: 55.0000 - fn: 18.0000 - accuracy: 0.7931 - precision: 0.8154 - val_loss: 0.5586 - val_tp: 28.0000 - val_fp: 9.0000 - val_tn: 10.0000 - val_fn: 3.0000 - val_accuracy: 0.7600 - val_precision: 0.7568\n",
            "Epoch 20/20\n",
            "21/21 [==============================] - 15s 691ms/step - loss: 0.4838 - tp: 114.0000 - fp: 25.0000 - tn: 54.0000 - fn: 10.0000 - accuracy: 0.8276 - precision: 0.8201 - val_loss: 0.4966 - val_tp: 26.0000 - val_fp: 9.0000 - val_tn: 10.0000 - val_fn: 5.0000 - val_accuracy: 0.7200 - val_precision: 0.7429\n"
          ]
        }
      ],
      "source": [
        "history1 = model.fit(train_set, epochs = 20, validation_data = valid_set)"
      ]
    },
    {
      "cell_type": "code",
      "execution_count": 33,
      "metadata": {
        "colab": {
          "base_uri": "https://localhost:8080/",
          "height": 0
        },
        "id": "uQVZ_pi-tcSn",
        "outputId": "5288f4f6-2334-4f58-b18d-2a54ee69dfb1"
      },
      "outputs": [
        {
          "name": "stdout",
          "output_type": "stream",
          "text": [
            "loss :  0.5671152472496033\n",
            "tp :  27.0\n",
            "fp :  9.0\n",
            "tn :  10.0\n",
            "fn :  4.0\n",
            "accuracy :  0.7400000095367432\n",
            "precision :  0.75\n"
          ]
        }
      ],
      "source": [
        "validation_results = model.evaluate(valid_set, verbose=0)\n",
        "\n",
        "for name, value in zip(model.metrics_names, validation_results):\n",
        "  print(name, ': ', value)"
      ]
    },
    {
      "cell_type": "code",
      "execution_count": 38,
      "metadata": {
        "colab": {
          "base_uri": "https://localhost:8080/",
          "height": 437
        },
        "id": "shlD8ePvrpZV",
        "outputId": "64fd3018-f16b-4117-99ac-594d7ab11f15"
      },
      "outputs": [
        {
          "name": "stdout",
          "output_type": "stream",
          "text": [
            "Non-tumor detected (True Negatives):  11\n",
            "Non-tumor incorrectly detected (False Positives):  8\n",
            "Tumor missed (False Negatives):  3\n",
            "Tumor detected (True Positives):  28\n",
            "Total case:  31\n"
          ]
        },
        {
          "data": {
            "image/png": "[encoded data removed]",
            "text/plain": [
              "<Figure size 360x360 with 2 Axes>"
            ]
          },
          "metadata": {
            "needs_background": "light"
          },
          "output_type": "display_data"
        }
      ],
      "source": [
        "validation_predictions = model.predict(valid_set)\n",
        "\n",
        "labels = valid_set.labels\n",
        "\n",
        "cm = confusion_matrix(labels, validation_predictions > 0.5)\n",
        "plt.figure(figsize=(5,5))\n",
        "sns.heatmap(cm, annot=True, fmt=\"d\")\n",
        "plt.title('Confusion matrix @{:.2f}'.format(0.5))\n",
        "plt.ylabel('Actual label')\n",
        "plt.xlabel('Predicted label')\n",
        "\n",
        "print('Non-tumor detected (True Negatives): ', cm[0][0])\n",
        "print('Non-tumor incorrectly detected (False Positives): ', cm[0][1])\n",
        "print('Tumor missed (False Negatives): ', cm[1][0])\n",
        "print('Tumor detected (True Positives): ', cm[1][1])\n",
        "print('Total case: ', np.sum(cm[1]))"
      ]
    },
    {
      "cell_type": "markdown",
      "metadata": {
        "id": "a3PTP0hAw7pS"
      },
      "source": [
        "## Results"
      ]
    },
    {
      "cell_type": "code",
      "execution_count": 45,
      "metadata": {
        "colab": {
          "base_uri": "https://localhost:8080/",
          "height": 0
        },
        "id": "r0UMZunjxypU",
        "outputId": "32780fae-ff23-461e-ec84-b23bfdc3f1e9"
      },
      "outputs": [
        {
          "data": {
            "text/plain": [
              "dict_keys(['loss', 'tp', 'fp', 'tn', 'fn', 'accuracy', 'precision', 'val_loss', 'val_tp', 'val_fp', 'val_tn', 'val_fn', 'val_accuracy', 'val_precision'])"
            ]
          },
          "execution_count": 45,
          "metadata": {},
          "output_type": "execute_result"
        }
      ],
      "source": [
        "h = history1.history\n",
        "h.keys()"
      ]
    },
    {
      "cell_type": "code",
      "execution_count": 48,
      "metadata": {
        "colab": {
          "base_uri": "https://localhost:8080/",
          "height": 312
        },
        "id": "jwD_HWirw-Jw",
        "outputId": "e22d109f-454a-4c5f-d13a-88602dffce1b"
      },
      "outputs": [
        {
          "data": {
            "text/plain": [
              "<function matplotlib.pyplot.show>"
            ]
          },
          "execution_count": 48,
          "metadata": {},
          "output_type": "execute_result"
        },
        {
          "data": {
            "image/png": "[encoded data removed]",
            "text/plain": [
              "<Figure size 432x288 with 1 Axes>"
            ]
          },
          "metadata": {
            "needs_background": "light"
          },
          "output_type": "display_data"
        }
      ],
      "source": [
        "plt.plot(h['accuracy'])\n",
        "plt.plot(h['val_accuracy'], c='red')\n",
        "plt.xlabel('Epoch')\n",
        "plt.ylabel('%')\n",
        "plt.title('acc vs val_acc')\n",
        "plt.show"
      ]
    },
    {
      "cell_type": "code",
      "execution_count": 49,
      "metadata": {
        "colab": {
          "base_uri": "https://localhost:8080/",
          "height": 312
        },
        "id": "C-tvKbFMyi1e",
        "outputId": "8d434aff-a647-48d4-e5fa-cb37413f2df8"
      },
      "outputs": [
        {
          "data": {
            "text/plain": [
              "<function matplotlib.pyplot.show>"
            ]
          },
          "execution_count": 49,
          "metadata": {},
          "output_type": "execute_result"
        },
        {
          "data": {
            "image/png": "[encoded data removed]",
            "text/plain": [
              "<Figure size 432x288 with 1 Axes>"
            ]
          },
          "metadata": {
            "needs_background": "light"
          },
          "output_type": "display_data"
        }
      ],
      "source": [
        "plt.plot(h['accuracy'])\n",
        "plt.plot(h['loss'], c='red')\n",
        "plt.xlabel('Epoch')\n",
        "plt.ylabel('%')\n",
        "plt.title('acc vs loss')\n",
        "plt.show"
      ]
    },
    {
      "cell_type": "markdown",
      "metadata": {
        "id": "UEO16iW8zYeX"
      },
      "source": [
        "## Transfer Learning using MobileNet V2"
      ]
    },
    {
      "cell_type": "code",
      "execution_count": 50,
      "metadata": {
        "colab": {
          "base_uri": "https://localhost:8080/",
          "height": 0
        },
        "id": "rCTqmdRQzdkX",
        "outputId": "9a5a1366-1dff-4ce0-d6d9-f82461044b9f"
      },
      "outputs": [
        {
          "name": "stdout",
          "output_type": "stream",
          "text": [
            "Downloading data from https://storage.googleapis.com/tensorflow/keras-applications/mobilenet_v2/mobilenet_v2_weights_tf_dim_ordering_tf_kernels_1.0_224_no_top.h5\n",
            "9412608/9406464 [==============================] - 0s 0us/step\n",
            "9420800/9406464 [==============================] - 0s 0us/step\n",
            "Model: \"sequential_1\"\n",
            "_________________________________________________________________\n",
            " Layer (type)                Output Shape              Param #   \n",
            "=================================================================\n",
            " mobilenetv2_1.00_224 (Funct  (None, 7, 7, 1280)       2257984   \n",
            " ional)                                                          \n",
            "                                                                 \n",
            " global_average_pooling2d (G  (None, 1280)             0         \n",
            " lobalAveragePooling2D)                                          \n",
            "                                                                 \n",
            " dense_2 (Dense)             (None, 1024)              1311744   \n",
            "                                                                 \n",
            " dropout_1 (Dropout)         (None, 1024)              0         \n",
            "                                                                 \n",
            " dense_3 (Dense)             (None, 1)                 1025      \n",
            "                                                                 \n",
            "=================================================================\n",
            "Total params: 3,570,753\n",
            "Trainable params: 1,312,769\n",
            "Non-trainable params: 2,257,984\n",
            "_________________________________________________________________\n"
          ]
        }
      ],
      "source": [
        "base_model = tf.keras.applications.MobileNetV2(input_shape=(224,224,3),\n",
        "                                               include_top=False,\n",
        "                                               weights='imagenet')\n",
        "\n",
        "base_model.trainable = False\n",
        "\n",
        "model = tf.keras.Sequential([\n",
        "                              base_model,\n",
        "                              tf.keras.layers.GlobalAveragePooling2D(),\n",
        "                              tf.keras.layers.Dense(1024, activation = 'relu'),\n",
        "                              tf.keras.layers.Dropout(rate = 0.2),\n",
        "                              tf.keras.layers.Dense(1, activation='sigmoid')\n",
        "                            ])\n",
        "\n",
        "model.compile(optimizer = tf.optimizers.Adam(learning_rate = 0.00008),\n",
        "                loss = \"binary_crossentropy\",\n",
        "                metrics=metrics)\n",
        "\n",
        "model.summary()"
      ]
    },
    {
      "cell_type": "code",
      "execution_count": 51,
      "metadata": {
        "colab": {
          "base_uri": "https://localhost:8080/",
          "height": 0
        },
        "id": "0YG9fJMkzqv6",
        "outputId": "046dc77c-fa6d-42c1-c067-d19df8887dc3"
      },
      "outputs": [
        {
          "name": "stdout",
          "output_type": "stream",
          "text": [
            "Epoch 1/20\n",
            "21/21 [==============================] - 14s 513ms/step - loss: 0.6551 - tp: 134.0000 - fp: 62.0000 - tn: 36.0000 - fn: 21.0000 - accuracy: 0.6719 - precision: 0.6837 - val_loss: 0.4125 - val_tp: 26.0000 - val_fp: 2.0000 - val_tn: 17.0000 - val_fn: 5.0000 - val_accuracy: 0.8600 - val_precision: 0.9286\n",
            "Epoch 2/20\n",
            "21/21 [==============================] - 9s 463ms/step - loss: 0.4440 - tp: 114.0000 - fp: 24.0000 - tn: 55.0000 - fn: 10.0000 - accuracy: 0.8325 - precision: 0.8261 - val_loss: 0.3361 - val_tp: 26.0000 - val_fp: 1.0000 - val_tn: 18.0000 - val_fn: 5.0000 - val_accuracy: 0.8800 - val_precision: 0.9630\n",
            "Epoch 3/20\n",
            "21/21 [==============================] - 9s 441ms/step - loss: 0.3521 - tp: 108.0000 - fp: 13.0000 - tn: 66.0000 - fn: 16.0000 - accuracy: 0.8571 - precision: 0.8926 - val_loss: 0.2644 - val_tp: 30.0000 - val_fp: 2.0000 - val_tn: 17.0000 - val_fn: 1.0000 - val_accuracy: 0.9400 - val_precision: 0.9375\n",
            "Epoch 4/20\n",
            "21/21 [==============================] - 9s 441ms/step - loss: 0.3380 - tp: 110.0000 - fp: 16.0000 - tn: 63.0000 - fn: 14.0000 - accuracy: 0.8522 - precision: 0.8730 - val_loss: 0.2540 - val_tp: 29.0000 - val_fp: 3.0000 - val_tn: 16.0000 - val_fn: 2.0000 - val_accuracy: 0.9000 - val_precision: 0.9062\n",
            "Epoch 5/20\n",
            "21/21 [==============================] - 10s 459ms/step - loss: 0.3134 - tp: 120.0000 - fp: 25.0000 - tn: 54.0000 - fn: 4.0000 - accuracy: 0.8571 - precision: 0.8276 - val_loss: 0.2485 - val_tp: 26.0000 - val_fp: 1.0000 - val_tn: 18.0000 - val_fn: 5.0000 - val_accuracy: 0.8800 - val_precision: 0.9630\n",
            "Epoch 6/20\n",
            "21/21 [==============================] - 10s 457ms/step - loss: 0.2888 - tp: 114.0000 - fp: 12.0000 - tn: 67.0000 - fn: 10.0000 - accuracy: 0.8916 - precision: 0.9048 - val_loss: 0.1708 - val_tp: 30.0000 - val_fp: 1.0000 - val_tn: 18.0000 - val_fn: 1.0000 - val_accuracy: 0.9600 - val_precision: 0.9677\n",
            "Epoch 7/20\n",
            "21/21 [==============================] - 11s 501ms/step - loss: 0.2573 - tp: 109.0000 - fp: 8.0000 - tn: 71.0000 - fn: 15.0000 - accuracy: 0.8867 - precision: 0.9316 - val_loss: 0.1767 - val_tp: 29.0000 - val_fp: 2.0000 - val_tn: 17.0000 - val_fn: 2.0000 - val_accuracy: 0.9200 - val_precision: 0.9355\n",
            "Epoch 8/20\n",
            "21/21 [==============================] - 10s 481ms/step - loss: 0.2401 - tp: 116.0000 - fp: 10.0000 - tn: 69.0000 - fn: 8.0000 - accuracy: 0.9113 - precision: 0.9206 - val_loss: 0.1965 - val_tp: 29.0000 - val_fp: 1.0000 - val_tn: 18.0000 - val_fn: 2.0000 - val_accuracy: 0.9400 - val_precision: 0.9667\n",
            "Epoch 9/20\n",
            "21/21 [==============================] - 9s 441ms/step - loss: 0.2534 - tp: 119.0000 - fp: 18.0000 - tn: 61.0000 - fn: 5.0000 - accuracy: 0.8867 - precision: 0.8686 - val_loss: 0.2267 - val_tp: 27.0000 - val_fp: 0.0000e+00 - val_tn: 19.0000 - val_fn: 4.0000 - val_accuracy: 0.9200 - val_precision: 1.0000\n",
            "Epoch 10/20\n",
            "21/21 [==============================] - 9s 446ms/step - loss: 0.2362 - tp: 117.0000 - fp: 11.0000 - tn: 68.0000 - fn: 7.0000 - accuracy: 0.9113 - precision: 0.9141 - val_loss: 0.1699 - val_tp: 28.0000 - val_fp: 0.0000e+00 - val_tn: 19.0000 - val_fn: 3.0000 - val_accuracy: 0.9400 - val_precision: 1.0000\n",
            "Epoch 11/20\n",
            "21/21 [==============================] - 9s 447ms/step - loss: 0.2177 - tp: 118.0000 - fp: 11.0000 - tn: 68.0000 - fn: 6.0000 - accuracy: 0.9163 - precision: 0.9147 - val_loss: 0.1346 - val_tp: 30.0000 - val_fp: 0.0000e+00 - val_tn: 19.0000 - val_fn: 1.0000 - val_accuracy: 0.9800 - val_precision: 1.0000\n",
            "Epoch 12/20\n",
            "21/21 [==============================] - 9s 444ms/step - loss: 0.2274 - tp: 118.0000 - fp: 8.0000 - tn: 71.0000 - fn: 6.0000 - accuracy: 0.9310 - precision: 0.9365 - val_loss: 0.1360 - val_tp: 29.0000 - val_fp: 0.0000e+00 - val_tn: 19.0000 - val_fn: 2.0000 - val_accuracy: 0.9600 - val_precision: 1.0000\n",
            "Epoch 13/20\n",
            "21/21 [==============================] - 9s 441ms/step - loss: 0.2057 - tp: 114.0000 - fp: 8.0000 - tn: 71.0000 - fn: 10.0000 - accuracy: 0.9113 - precision: 0.9344 - val_loss: 0.1549 - val_tp: 30.0000 - val_fp: 1.0000 - val_tn: 18.0000 - val_fn: 1.0000 - val_accuracy: 0.9600 - val_precision: 0.9677\n",
            "Epoch 14/20\n",
            "21/21 [==============================] - 9s 447ms/step - loss: 0.1577 - tp: 123.0000 - fp: 7.0000 - tn: 72.0000 - fn: 1.0000 - accuracy: 0.9606 - precision: 0.9462 - val_loss: 0.1650 - val_tp: 29.0000 - val_fp: 0.0000e+00 - val_tn: 19.0000 - val_fn: 2.0000 - val_accuracy: 0.9600 - val_precision: 1.0000\n",
            "Epoch 15/20\n",
            "21/21 [==============================] - 9s 443ms/step - loss: 0.1535 - tp: 119.0000 - fp: 6.0000 - tn: 73.0000 - fn: 5.0000 - accuracy: 0.9458 - precision: 0.9520 - val_loss: 0.1652 - val_tp: 27.0000 - val_fp: 1.0000 - val_tn: 18.0000 - val_fn: 4.0000 - val_accuracy: 0.9000 - val_precision: 0.9643\n",
            "Epoch 16/20\n",
            "21/21 [==============================] - 9s 443ms/step - loss: 0.1662 - tp: 119.0000 - fp: 8.0000 - tn: 71.0000 - fn: 5.0000 - accuracy: 0.9360 - precision: 0.9370 - val_loss: 0.1710 - val_tp: 28.0000 - val_fp: 0.0000e+00 - val_tn: 19.0000 - val_fn: 3.0000 - val_accuracy: 0.9400 - val_precision: 1.0000\n",
            "Epoch 17/20\n",
            "21/21 [==============================] - 9s 441ms/step - loss: 0.1461 - tp: 121.0000 - fp: 5.0000 - tn: 74.0000 - fn: 3.0000 - accuracy: 0.9606 - precision: 0.9603 - val_loss: 0.1563 - val_tp: 29.0000 - val_fp: 0.0000e+00 - val_tn: 19.0000 - val_fn: 2.0000 - val_accuracy: 0.9600 - val_precision: 1.0000\n",
            "Epoch 18/20\n",
            "21/21 [==============================] - 9s 440ms/step - loss: 0.1434 - tp: 121.0000 - fp: 3.0000 - tn: 76.0000 - fn: 3.0000 - accuracy: 0.9704 - precision: 0.9758 - val_loss: 0.1510 - val_tp: 29.0000 - val_fp: 1.0000 - val_tn: 18.0000 - val_fn: 2.0000 - val_accuracy: 0.9400 - val_precision: 0.9667\n",
            "Epoch 19/20\n",
            "21/21 [==============================] - 9s 441ms/step - loss: 0.1519 - tp: 118.0000 - fp: 5.0000 - tn: 74.0000 - fn: 6.0000 - accuracy: 0.9458 - precision: 0.9593 - val_loss: 0.1460 - val_tp: 29.0000 - val_fp: 0.0000e+00 - val_tn: 19.0000 - val_fn: 2.0000 - val_accuracy: 0.9600 - val_precision: 1.0000\n",
            "Epoch 20/20\n",
            "21/21 [==============================] - 9s 444ms/step - loss: 0.1231 - tp: 121.0000 - fp: 5.0000 - tn: 74.0000 - fn: 3.0000 - accuracy: 0.9606 - precision: 0.9603 - val_loss: 0.1502 - val_tp: 29.0000 - val_fp: 0.0000e+00 - val_tn: 19.0000 - val_fn: 2.0000 - val_accuracy: 0.9600 - val_precision: 1.0000\n"
          ]
        }
      ],
      "source": [
        "history2 = model.fit(train_set, epochs = 20, validation_data = valid_set)"
      ]
    },
    {
      "cell_type": "code",
      "execution_count": 54,
      "metadata": {
        "id": "WysGt6bw03dB"
      },
      "outputs": [],
      "source": [
        "model.save('/content/brain_tumor_detection_model.h5')"
      ]
    },
    {
      "cell_type": "code",
      "execution_count": 55,
      "metadata": {
        "id": "K6bPy-GW1Kum"
      },
      "outputs": [],
      "source": [
        "! cp /content/brain_tumor_detection_model.h5 /content/drive/MyDrive/"
      ]
    },
    {
      "cell_type": "code",
      "execution_count": 52,
      "metadata": {
        "colab": {
          "base_uri": "https://localhost:8080/",
          "height": 0
        },
        "id": "aMjKmW1p0tAS",
        "outputId": "dec5a39f-af51-411e-f2cd-05a31f85ddf9"
      },
      "outputs": [
        {
          "name": "stdout",
          "output_type": "stream",
          "text": [
            "loss :  0.15041548013687134\n",
            "tp :  30.0\n",
            "fp :  0.0\n",
            "tn :  19.0\n",
            "fn :  1.0\n",
            "accuracy :  0.9800000190734863\n",
            "precision :  1.0\n"
          ]
        }
      ],
      "source": [
        "validation_results = model.evaluate(valid_set, verbose=0)\n",
        "\n",
        "for name, value in zip(model.metrics_names, validation_results):\n",
        "  print(name, ': ', value)"
      ]
    },
    {
      "cell_type": "code",
      "execution_count": 56,
      "metadata": {
        "colab": {
          "base_uri": "https://localhost:8080/",
          "height": 437
        },
        "id": "sYbPMgTS1Zed",
        "outputId": "3f5a2eea-13a4-4368-e3ce-e376df6c19b5"
      },
      "outputs": [
        {
          "name": "stdout",
          "output_type": "stream",
          "text": [
            "Non-tumor detected (True Negatives):  18\n",
            "Non-tumor incorrectly detected (False Positives):  1\n",
            "Tumor missed (False Negatives):  2\n",
            "Tumor detected (True Positives):  29\n",
            "Total case:  31\n"
          ]
        },
        {
          "data": {
            "image/png": "[encoded data removed]",
            "text/plain": [
              "<Figure size 360x360 with 2 Axes>"
            ]
          },
          "metadata": {
            "needs_background": "light"
          },
          "output_type": "display_data"
        }
      ],
      "source": [
        "validation_predictions = model.predict(valid_set)\n",
        "\n",
        "labels = valid_set.labels\n",
        "\n",
        "cm = confusion_matrix(labels, validation_predictions > 0.5)\n",
        "plt.figure(figsize=(5,5))\n",
        "sns.heatmap(cm, annot=True, fmt=\"d\")\n",
        "plt.title('Confusion matrix @{:.2f}'.format(0.5))\n",
        "plt.ylabel('Actual label')\n",
        "plt.xlabel('Predicted label')\n",
        "\n",
        "print('Non-tumor detected (True Negatives): ', cm[0][0])\n",
        "print('Non-tumor incorrectly detected (False Positives): ', cm[0][1])\n",
        "print('Tumor missed (False Negatives): ', cm[1][0])\n",
        "print('Tumor detected (True Positives): ', cm[1][1])\n",
        "print('Total case: ', np.sum(cm[1]))"
      ]
    },
    {
      "cell_type": "markdown",
      "metadata": {
        "id": "iXRNrJZI1kp3"
      },
      "source": [
        "## Results"
      ]
    },
    {
      "cell_type": "code",
      "execution_count": 57,
      "metadata": {
        "colab": {
          "base_uri": "https://localhost:8080/",
          "height": 0
        },
        "id": "nBjpLo8g1hXt",
        "outputId": "0640607e-df3e-49bf-c921-56e83640da43"
      },
      "outputs": [
        {
          "data": {
            "text/plain": [
              "dict_keys(['loss', 'tp', 'fp', 'tn', 'fn', 'accuracy', 'precision', 'val_loss', 'val_tp', 'val_fp', 'val_tn', 'val_fn', 'val_accuracy', 'val_precision'])"
            ]
          },
          "execution_count": 57,
          "metadata": {},
          "output_type": "execute_result"
        }
      ],
      "source": [
        "h = history2.history\n",
        "h.keys()"
      ]
    },
    {
      "cell_type": "code",
      "execution_count": 58,
      "metadata": {
        "colab": {
          "base_uri": "https://localhost:8080/",
          "height": 312
        },
        "id": "hg9ahqnh1txl",
        "outputId": "3030361d-3a7c-4b6f-cb38-fdbcf2286763"
      },
      "outputs": [
        {
          "data": {
            "text/plain": [
              "<function matplotlib.pyplot.show>"
            ]
          },
          "execution_count": 58,
          "metadata": {},
          "output_type": "execute_result"
        },
        {
          "data": {
            "image/png": "[encoded data removed]",
            "text/plain": [
              "<Figure size 432x288 with 1 Axes>"
            ]
          },
          "metadata": {
            "needs_background": "light"
          },
          "output_type": "display_data"
        }
      ],
      "source": [
        "plt.plot(h['accuracy'])\n",
        "plt.plot(h['val_accuracy'], c='red')\n",
        "plt.xlabel('Epoch')\n",
        "plt.ylabel('%')\n",
        "plt.title('acc vs val_acc')\n",
        "plt.show"
      ]
    },
    {
      "cell_type": "code",
      "execution_count": 59,
      "metadata": {
        "colab": {
          "base_uri": "https://localhost:8080/",
          "height": 312
        },
        "id": "V5E_kMdP1xDF",
        "outputId": "0c6052cc-e425-470b-855f-0158f978d1c9"
      },
      "outputs": [
        {
          "data": {
            "text/plain": [
              "<function matplotlib.pyplot.show>"
            ]
          },
          "execution_count": 59,
          "metadata": {},
          "output_type": "execute_result"
        },
        {
          "data": {
            "image/png": "[encoded data removed]",
            "text/plain": [
              "<Figure size 432x288 with 1 Axes>"
            ]
          },
          "metadata": {
            "needs_background": "light"
          },
          "output_type": "display_data"
        }
      ],
      "source": [
        "plt.plot(h['accuracy'])\n",
        "plt.plot(h['loss'], c='red')\n",
        "plt.xlabel('Epoch')\n",
        "plt.ylabel('%')\n",
        "plt.title('acc vs loss')\n",
        "plt.show"
      ]
    }
  ],
  "metadata": {
    "colab": {
      "collapsed_sections": [],
      "name": "DA_Project.ipynb",
      "provenance": []
    },
    "kernelspec": {
      "display_name": "Python 3",
      "name": "python3"
    },
    "language_info": {
      "name": "python"
    }
  },
  "nbformat": 4,
  "nbformat_minor": 0
}
