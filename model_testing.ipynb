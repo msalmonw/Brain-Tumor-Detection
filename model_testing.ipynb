{
  "cells": [
    {
      "cell_type": "code",
      "execution_count": 39,
      "metadata": {
        "id": "43ZExOohQsim"
      },
      "outputs": [],
      "source": [
        "import os\n",
        "import numpy as np\n",
        "from tensorflow.keras.models import load_model\n",
        "from tensorflow.keras.preprocessing import image\n",
        "import matplotlib.pyplot as plt\n"
      ]
    },
    {
      "cell_type": "code",
      "execution_count": 51,
      "metadata": {
        "id": "4puasPkVQ4q5"
      },
      "outputs": [],
      "source": [
        "def diagnose(imagepath, model):\n",
        "     \n",
        "     print('Loading Image: ', imagepath)\n",
        "     img = image.load_img(imagepath, target_size=(224, 224))\n",
        "     img = image.img_to_array(img)\n",
        "     img = img/255\n",
        "     img = np.expand_dims(img, axis=0)\n",
        "\n",
        "     prediction = model.predict(img)\n",
        "     prediction_flatten = prediction.flatten()\n",
        "     return prediction_flatten"
      ]
    },
    {
      "cell_type": "code",
      "execution_count": 49,
      "metadata": {
        "colab": {
          "base_uri": "https://localhost:8080/",
          "height": 88
        },
        "id": "jXYQN_9gRwNi",
        "outputId": "69995934-4d5f-40c7-9a05-9a68872ab995"
      },
      "outputs": [],
      "source": [
        "model = load_model('brain_tumor_detection_model.h5')"
      ]
    },
    {
      "cell_type": "code",
      "execution_count": 52,
      "metadata": {},
      "outputs": [
        {
          "name": "stdout",
          "output_type": "stream",
          "text": [
            "Loading Image:  ./test/test1.jpg\n",
            "Tumor Positivity: 95.59379816055298%\n",
            "Loading Image:  ./test/test2.jpg\n",
            "Tumor Positivity: 98.97360801696777%\n",
            "Loading Image:  ./test/test3.jpg\n",
            "Tumor Positivity: 91.80731773376465%\n",
            "Loading Image:  ./test/test4.jpg\n",
            "Tumor Positivity: 0.8624708279967308%\n",
            "Loading Image:  ./test/test5.jpg\n",
            "Tumor Positivity: 99.08766150474548%\n",
            "Loading Image:  ./test/test6.jpg\n",
            "Tumor Positivity: 91.80240035057068%\n",
            "Loading Image:  ./test/test7.jpg\n",
            "Tumor Positivity: 57.62568712234497%\n",
            "Loading Image:  ./test/test8.jpg\n",
            "Tumor Positivity: 6.650974601507187%\n"
          ]
        }
      ],
      "source": [
        "path = './test/'\n",
        "for img in os.listdir(path):\n",
        "    full_path = os.path.join(path, img)\n",
        "    print('Tumor Positivity: {}%'.format(diagnose(full_path, model)[0]*100))"
      ]
    }
  ],
  "metadata": {
    "colab": {
      "collapsed_sections": [],
      "name": "model_testing_resnet.ipynb",
      "provenance": []
    },
    "kernelspec": {
      "display_name": "Python 3",
      "name": "python3"
    },
    "language_info": {
      "codemirror_mode": {
        "name": "ipython",
        "version": 3
      },
      "file_extension": ".py",
      "mimetype": "text/x-python",
      "name": "python",
      "nbconvert_exporter": "python",
      "pygments_lexer": "ipython3",
      "version": "3.9.7"
    }
  },
  "nbformat": 4,
  "nbformat_minor": 0
}
